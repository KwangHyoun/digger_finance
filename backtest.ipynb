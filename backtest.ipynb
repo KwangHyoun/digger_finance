{
 "cells": [
  {
   "cell_type": "code",
   "execution_count": 1,
   "metadata": {},
   "outputs": [
    {
     "ename": "ModuleNotFoundError",
     "evalue": "No module named 'data_loading'",
     "output_type": "error",
     "traceback": [
      "\u001b[0;31m---------------------------------------------------------------------------\u001b[0m",
      "\u001b[0;31mModuleNotFoundError\u001b[0m                       Traceback (most recent call last)",
      "\u001b[0;32m<ipython-input-1-72e2eae63e48>\u001b[0m in \u001b[0;36m<module>\u001b[0;34m\u001b[0m\n\u001b[0;32m----> 1\u001b[0;31m \u001b[0;32mfrom\u001b[0m \u001b[0mdata_loading\u001b[0m \u001b[0;32mimport\u001b[0m \u001b[0mpack\u001b[0m\u001b[0;34m\u001b[0m\u001b[0;34m\u001b[0m\u001b[0m\n\u001b[0m",
      "\u001b[0;31mModuleNotFoundError\u001b[0m: No module named 'data_loading'"
     ]
    }
   ],
   "source": [
    "from './data_loading' import pack"
   ]
  },
  {
   "cell_type": "code",
   "execution_count": 0,
   "metadata": {},
   "outputs": [],
   "source": [
    "pack.MP.mkt_open"
   ]
  },
  {
   "cell_type": "code",
   "execution_count": 0,
   "metadata": {},
   "outputs": [],
   "source": [
    "pack.MP.kospi.value"
   ]
  },
  {
   "cell_type": "code",
   "execution_count": 0,
   "metadata": {},
   "outputs": [],
   "source": [
    "import numpy as np\n",
    "import pandas as pd\n",
    "import matplotlib.pyplot as plt\n",
    "import datetime"
   ]
  },
  {
   "cell_type": "code",
   "execution_count": 0,
   "metadata": {},
   "outputs": [],
   "source": [
    "%matplotlib inline"
   ]
  },
  {
   "cell_type": "markdown",
   "metadata": {},
   "source": [
    "<br>\n",
    "<br>\n",
    "\n",
    "## __I. Construct Portfolio__\n",
    "---\n",
    "- Daily Trading \n",
    "    - Exit at the date of purchasing\n",
    "        - Condition\n",
    "    - Not deterministic\n",
    "        - Condition, buy_date, sell_date, period\n",
    "- Weekly Trading\n",
    "    - \n",
    "- Monthly Trading"
   ]
  },
  {
   "cell_type": "markdown",
   "metadata": {},
   "source": [
    "<br>\n",
    "<br>\n",
    "\n",
    "### __Portolio Type I - Fixed Rebalance__\n",
    "\n",
    "---\n",
    "\n",
    "- DataFrame Type"
   ]
  },
  {
   "cell_type": "code",
   "execution_count": 0,
   "metadata": {},
   "outputs": [],
   "source": [
    "# Daily Trading Type1 - Buy & Sell on the day\n",
    "test_from = '2019-01-01'\n",
    "test_to = '2019-09-30'\n",
    "\n",
    "# Condition Table is given"
   ]
  },
  {
   "cell_type": "code",
   "execution_count": 0,
   "metadata": {},
   "outputs": [],
   "source": [
    "# We need Filtered Data(Except Holiday&Weekend)\n",
    "\n",
    "# 하루 최대 변동폭(양수) / (종가 - 시가)\n",
    "# 양수 = 상승마감 \n",
    "# 음수 = 하락마감 \n",
    "# 1<value<2 ; 안정적 상승\n",
    "\n",
    "stg_01 = (pack.PRP.price_high.value - pack.PRP.price_low.value)/(pack.PRP.price.value-pack.PRP.price_open.value)\n",
    "stg_01 = stg_01.loc[pack.MP.mkt_open]\n",
    "stg_01 = stg_01.loc[test_from:test_to]\n",
    "\n",
    "cond_t = pd.DataFrame(np.where((stg_01>1)&(stg_01<1.1), True, False), columns = stg_01.columns, index=stg_01.index)\n",
    "stg_01 = stg_01[cond_t]\n",
    "\n",
    "stg_01.dropna(axis=1, how='all', inplace=True)\n",
    "stg_01.dropna(axis=0, how='all', inplace=True)\n",
    "\n",
    "stg_01_w = stg_01.apply(lambda row: row/row.sum(), axis=1) # 포트폴리오 내 종목 비중\n",
    "stg_01_w = stg_01_w.shift(1).dropna(axis=0, how='all') # 다음 날 구매"
   ]
  },
  {
   "cell_type": "code",
   "execution_count": 0,
   "metadata": {},
   "outputs": [],
   "source": [
    "stg_02 = (pack.PRP.price_high.value - pack.PRP.price_low.value)/(pack.PRP.price.value-pack.PRP.price_open.value)\n",
    "stg_02 = stg_02.loc[pack.MP.mkt_open]\n",
    "stg_02 = stg_02.loc[test_from:test_to]\n",
    "\n",
    "cond_t = pd.DataFrame(np.where((stg_02>1.1)&(stg_02<1000), True, False), columns=stg_02.columns, index=stg_02.index)\n",
    "stg_02 = np.log(stg_02[cond_t])\n",
    "\n",
    "stg_02.dropna(axis=1, how='all', inplace=True)\n",
    "stg_02.dropna(axis=0, how='all', inplace=True)\n",
    "\n",
    "stg_02_w = stg_02.apply(lambda row: row/row.sum(), axis=1) # 포트폴리오 내 종목 비중\n",
    "stg_02_w = stg_02_w.shift(1).dropna(axis=0, how='all') # 다음 날 구매"
   ]
  },
  {
   "cell_type": "code",
   "execution_count": 0,
   "metadata": {},
   "outputs": [],
   "source": [
    "test_return = (pack.PRP.price.value/pack.PRP.price_open.value-1)\n",
    "test_return = reduction(test_return, stg_02_w)"
   ]
  },
  {
   "cell_type": "markdown",
   "metadata": {},
   "source": [
    "<br>\n",
    "<br>\n",
    "\n",
    "#### __매 리밸런스기 포트폴리오 비중이 주어졌을 때 실제 종목별 투자금액 및 주 수__\n",
    "---\n",
    "* 포트폴리오 내 종목 비율은 Fixed\n",
    "* 포트폴리오 내 실제 종목 투자 금액은 이전 리밸런스기 평가금액에 따라 달라짐\n",
    "* 포트폴리오 내 종목 수도 동일\n",
    "---"
   ]
  },
  {
   "cell_type": "code",
   "execution_count": 0,
   "metadata": {},
   "outputs": [],
   "source": [
    "# Eliminate Unnecessary Parts of Large_df based on Small_df\n",
    "def reduction(large_df, small_df):\n",
    "    return large_df.loc[small_df.index,small_df.columns]\n",
    "\n",
    "# Return empty DataFrame \n",
    "def plate(df):\n",
    "    return pd.DataFrame(columns=df.columns, index=df.index)\n",
    "\n",
    "# Return empty Series\n",
    "def stick(df, stick_name=None):\n",
    "    return pd.Series(index=df.index, name=stick_name)\n",
    "\n",
    "\n",
    "# Property\n",
    "## Asset1 = Asset & Remain Cash\n",
    "## Asset2 = Asset & Remain Cash\n",
    "class Asset:\n",
    "    def __init__(self, name):\n",
    "        # 1) 자산 이름\n",
    "        self.asset_name = name\n",
    "        \n",
    "    def activate(self, init_invest, dates, items):\n",
    "        # 1) init_invest : 초기 투자금액\n",
    "        # 2) period : 투자 기간내 유의한 날짜(자산 배분 변화일)\n",
    "        # 3) items : 투자 자산군 내 개별 종목들\n",
    "        self.init_invest = init_invest # 초기 투자값\n",
    "        self.portfolio = pd.DataFrame(data=np.zeros((dates.size, items.size)), # 리밸런스시 보유할 종목 수\n",
    "                                      index=dates, columns=items)\n",
    "        self.trade = pd.DataFrame(data=np.zeros((dates.size, items.size)), # 주문 수\n",
    "                                  index=dates, columns=items)\n",
    "        self.wallet = pd.DataFrame(data=np.zeros((dates.size, 3)), # 자산 가치 평가\n",
    "                                  index=dates, columns=[self.asset_name, 'cash', 'total'])\n",
    "        self.wallet.iloc[0].cash = init_invest\n",
    "        self.wallet.iloc[0].total = init_invest"
   ]
  },
  {
   "cell_type": "code",
   "execution_count": 0,
   "metadata": {},
   "outputs": [],
   "source": [
    "list(stg_01_w.index).index(stg_01_w.index[0])"
   ]
  },
  {
   "cell_type": "code",
   "execution_count": 0,
   "metadata": {},
   "outputs": [],
   "source": [
    "(stg_01_w).to_"
   ]
  },
  {
   "cell_type": "code",
   "execution_count": null,
   "metadata": {},
   "outputs": [],
   "source": []
  },
  {
   "cell_type": "code",
   "execution_count": 0,
   "metadata": {},
   "outputs": [],
   "source": [
    "def backtest(port_weight, deposit, trading_type='D-0O0C', asset_name='stock', fee_rate=0.00015, tax_rate=0.003):\n",
    "    # 1) Port_weight : 전략에 따라 매 리밸런스기 보유해야할 종목 비중\n",
    "    # 2) deposit : 최초 투자금액\n",
    "    # 3) trading_type : Daily/Weekly/Monthly/Conditionally - Buy at Open/Close after n date, Sell at Open/Close after n date\n",
    "    # 4) asset_name : 자산명\n",
    "    # 5) fee_rate : 기관 중개 수수료\n",
    "    # 6) tax_rate : 세금\n",
    "    \n",
    "    trading_type = trading_type.split('-')\n",
    "    \n",
    "    # 투자전략(매 리밸런스기 자산 분배 비율)\n",
    "    asset = Asset(asset_name)\n",
    "    asset.activate(deposit, port_weight.index, port_weight.columns)\n",
    "    \n",
    "    # trading_type에 따라 매수가격 및 매도가격 데이터프레임 설정\n",
    "    price_buy = reduction(pack.PRP.price_open.value, port_weight)\n",
    "    price_sell = reduction(pack.PRP.price_open.value, port_weight)\n",
    "    \n",
    "    def _backtesting(row):\n",
    "        t = row.name\n",
    "        if t!= port_weight.index[0]:\n",
    "            # 리밸런스 시점 필요 주문 파악 - 매도 후 - 매수 가능\n",
    "            ## 1) Wallet Total 파악\n",
    "            ## 2) 필요한 주문 규모 파악\n",
    "            ## 2) 매도 금액            \n",
    "            asset.wallet.loc[t].total = asset.wallet.loc[t].cash + (asset.portfolio.loc[t]*price_sell.loc[t]).sum() # 현금 + 갖고있는 자산의 청산가치\n",
    "            print(asset.wallet.loc[t].totalv)\n",
    "            asset_alloc = row*asset.wallet.loc[t].total # 자산당 배정 금액\n",
    "            asset.trade.loc[t] = (asset_alloc//price_buy.loc[t])-asset.portfolio.iloc[list(port_weight.index).index(row.name)-1] # 배정 금액을 바탕으로 종목별 실제 주문하는 규모\n",
    "            # asset.portfolio.loc[t] = \n",
    "            # asset.trade.loc[t] -= asset.portfolio.loc[t]\n",
    "            # asset.wallet.loc[t].cash += asset.trade.loc\n",
    "            \n",
    "        else:\n",
    "            # 최초 주문시 매도 없음\n",
    "            ## 1) 종목별 할당 금액 계산\n",
    "            ## 2) 종목별 실제 구매 가능 수 계산 - 이후 리밸런스 신호가 오지 않는한 이 포트폴리오 유지한다고 가정\n",
    "            ## 3) 리밸런스 주문\n",
    "            ## 4) 리밸런스 후 자산변화(ash, asset_name, total)\n",
    "            asset_alloc = row * asset.wallet.loc[t].total \n",
    "            asset.portfolio.loc[t] = asset_alloc//(price_buy.loc[t])\n",
    "            asset.trade.loc[t] = asset.portfolio.loc[t]\n",
    "            \n",
    "        trade_buy = (asset.trade.loc[t])[asset.trade.loc[t]>0]\n",
    "        trade_sell = (asset.trade.loc[t])[asset.trade.loc[t]<0]\n",
    "        \n",
    "        # print((trade_buy*price_buy.loc[t]).sum())\n",
    "        # print('*****\\n\\n\\n BUY\\n', trade_buy, '\\nSELL\\n',trade_sell)\n",
    "        fee_buy = (trade_buy*price_buy.loc[t]).sum()*fee_rate\n",
    "        fee_sell = (trade_sell*price_sell.loc[t]).sum()*fee_rate\n",
    "        tax = (trade_sell*price_sell.loc[t]).sum()*tax_rate\n",
    "        cost = fee_buy + fee_sell + tax\n",
    "        # print('\\nCOST :',cost/10000000000000000,'\\n\\n')\n",
    "        \n",
    "        asset.wallet.loc[t:].cash = asset.wallet.loc[t].total-(trade_buy*price_buy.loc[t]).sum()+(trade_sell*price_sell.loc[t]).sum()-cost   \n",
    "        \n",
    "    port_weight.T.apply(lambda row: _backtesting(row))\n",
    "    \n",
    "    return asset\n"
   ]
  },
  {
   "cell_type": "code",
   "execution_count": 0,
   "metadata": {},
   "outputs": [],
   "source": [
    "result1 = backtest(stg_01_w, 10000000000000000)\n",
    "# result2 = backtest(stg_02_w, 10000000000000000)"
   ]
  },
  {
   "cell_type": "code",
   "execution_count": 0,
   "metadata": {},
   "outputs": [],
   "source": [
    "result1.wallet"
   ]
  },
  {
   "cell_type": "code",
   "execution_count": null,
   "metadata": {},
   "outputs": [],
   "source": []
  },
  {
   "cell_type": "code",
   "execution_count": null,
   "metadata": {},
   "outputs": [],
   "source": []
  },
  {
   "cell_type": "code",
   "execution_count": null,
   "metadata": {},
   "outputs": [],
   "source": []
  },
  {
   "cell_type": "code",
   "execution_count": null,
   "metadata": {},
   "outputs": [],
   "source": []
  },
  {
   "cell_type": "code",
   "execution_count": 0,
   "metadata": {},
   "outputs": [],
   "source": [
    "\n",
    "'''\n",
    "\n",
    "            \n",
    "            asset.wallet.loc[t].cash -= (asset.trade.loc[t]*price_buy.loc[t]).sum()\n",
    "            \n",
    "            \n",
    "        t = row.name\n",
    "        \n",
    "        asset_alloc = row*asset.value.loc[t].cash # 종목별 할당 금액\n",
    "        asset.portfolio.loc[t:] = asset_alloc//price_buy.loc[t]\n",
    "        \n",
    "    \n",
    "    if trading_type in ['BOSC']:\n",
    "        \n",
    "    \n",
    "    # Construct Asset from the Strategy(port_weight)\n",
    "    asset = Asset(asset_name)\n",
    "    asset.activate(deposit, port_weight.index, port_weight.columns)\n",
    "    \n",
    "    def _backtesting(row): # 적어도 하루 이상 자산 유지\n",
    "        # \n",
    "        t = row.name\n",
    "        asset_alloc = asset.value.loc[t].cash * row # 종목별 할당 금액(최대 투자 가능 금액)\n",
    "        asset_alloc_n = asset_alloc//price_buy.loc[t] # 종목별 실제 운용 주\n",
    "        \n",
    "        asset.portfolio.loc[t]\n",
    "        asset.\n",
    "        buy_value = ((asset_alloc//price_buy.loc[t])*price_buy.loc[t]).sum()\n",
    "        sell_value = ((asset_alloc//price_buy.loc[t])*price_sell.loc[t]).sum()\n",
    "           \n",
    "        \n",
    "        \n",
    "    def _backtesting_daily(row):\n",
    "        t = row.name\n",
    "        # Use only Cash Item on Transaction Book\n",
    "        # Before Market Open\n",
    "        ## 1) Budget Allocation per Item \n",
    "        asset_alloc = asset.value.loc[t].cash * row # 종목별 할당 금액(최대 투자 가능 금액)\n",
    "        \n",
    "        # With Market Open\n",
    "        ## 1) Purchasable Price\n",
    "        ## 2) Purchase Amount\n",
    "        ## 3) The number of purchasing per Item\n",
    "        ## 4) Remaining Cash\n",
    "        # asset.trade.loc[t] = (asset_alloc//price_buy.loc[t]) # 매수 기록\n",
    "        # asset.trade.loc[t] -= (asset_alloc//price_buy.loc[t]) # 매도 기록\n",
    "        buy_value = ((asset_alloc//price_buy.loc[t])*price_buy.loc[t]).sum()\n",
    "        sell_value = ((asset_alloc//price_buy.loc[t])*price_sell.loc[t]).sum()\n",
    "        \n",
    "        fee_buy = buy_value*fee_rate\n",
    "        fee_sell = sell_value*fee_rate\n",
    "        tax = sell_value*tax_rate\n",
    "        \n",
    "        asset.value.loc[t:].cash = asset.value.loc[t].cash+(sell_value-buy_value)-fee_buy-fee_sell-tax\n",
    "\n",
    "    \n",
    "    \n",
    "    \n",
    "    return\n",
    "    # Prepare price data based on trading_type\n",
    "    price_o = reduction(pack.PRP.price_open.value, port_weight)\n",
    "    price_c = reduction(pack.PRP.price.value, port_weight)\n",
    "\n",
    "    # 해당일 마감시점 장부\n",
    "    transaction_book = pd.DataFrame(index=port_weight.index.insert(port_weight.index.size, \n",
    "                                                                   port_weight.index[-1]+datetime.timedelta(days=1)), \n",
    "                                    columns=['cash','asset','total','buy','sell'])\n",
    "    transaction_book.cash.iloc[0].cash = deposit;     \n",
    "    \n",
    "    pocket.iloc[0].Cash = deposit; pocket.iloc[0].Stock = 0\n",
    "    pocket.iloc[0].Total = pocket.iloc[0].sum()\n",
    "    pocket.iloc[1].Total = pocket.iloc[0].Total\n",
    "    \n",
    "    budget_alloc = plate(port_weight)\n",
    "    purchase_amt = plate(port_weight)\n",
    "    purchase_share = plate(port_weight)\n",
    "\n",
    "        \n",
    "        # return (buy_amt, sell_amt)\n",
    "    \n",
    "    port_weight.T.apply(lambda row: _daily_backtesting(row))\n",
    "    transaction_book.loc[transaction_book.index[0]-datetime.timedelta(days=1)] = [deposit, 0, deposit, 0, 0]\n",
    "    transaction_book.sort_index(inplace=True)\n",
    "    return transaction_book\n",
    "    \n",
    "  \n",
    "    for t, pt in port_weight.iterrows():\n",
    "        # Before Market Open\n",
    "        # 1) Budget Allocation per Item \n",
    "        pocket.loc[t].Total = deposit\n",
    "        budget_alloc.loc[t] = pt*pocket.loc[t].Total\n",
    "        # With Market Open\n",
    "        # 1) Purchasable Price\n",
    "        # 2) Purchase Amount\n",
    "        # 3) The Number of Shares\n",
    "        # 4) Remaining Cash\n",
    "        purchase_price = price_o.loc[t]\n",
    "        purchase_amt.loc[t] = budget_alloc.loc[t]//purchase_price\n",
    "        purchase_share.loc[t] = purchase_amt.loc[t]/purchase_price\n",
    "        pocket.loc[t].Cash = pocket.loc[t].Total - purchase_amt.loc[t].sum()\n",
    "\n",
    "        # Before Market Close\n",
    "        # 1) Selable Price\n",
    "        # 2) Evaluation Amount\n",
    "        sale_price = price_c.loc[t]\n",
    "        pocket.loc[t].Stock = (sale_price*purchase_share.loc[t]).sum()\n",
    "        pocket.loc[t].Total = pocket.loc[t].Cash + pocket.loc[t].Stock\n",
    "        deposit = pocket.loc[t].Total\n",
    "\n",
    "    return pocket\n",
    "'''"
   ]
  },
  {
   "cell_type": "code",
   "execution_count": 0,
   "metadata": {},
   "outputs": [],
   "source": [
    "(result2.value.cash - result1.value.cash).plot()"
   ]
  },
  {
   "cell_type": "code",
   "execution_count": 0,
   "metadata": {},
   "outputs": [],
   "source": [
    "result.value.stock"
   ]
  },
  {
   "cell_type": "code",
   "execution_count": 0,
   "metadata": {},
   "outputs": [],
   "source": [
    "result.cash.plot()"
   ]
  },
  {
   "cell_type": "raw",
   "metadata": {},
   "source": [
    "result.buy/result.cash"
   ]
  },
  {
   "cell_type": "code",
   "execution_count": 0,
   "metadata": {},
   "outputs": [],
   "source": [
    "(result.cash.pct_change()).plot()"
   ]
  },
  {
   "cell_type": "code",
   "execution_count": null,
   "metadata": {},
   "outputs": [],
   "source": []
  },
  {
   "cell_type": "code",
   "execution_count": null,
   "metadata": {},
   "outputs": [],
   "source": []
  },
  {
   "cell_type": "code",
   "execution_count": null,
   "metadata": {},
   "outputs": [],
   "source": []
  },
  {
   "cell_type": "code",
   "execution_count": 0,
   "metadata": {},
   "outputs": [],
   "source": [
    "result"
   ]
  },
  {
   "cell_type": "code",
   "execution_count": 0,
   "metadata": {},
   "outputs": [],
   "source": [
    "\n",
    "for t, pt in port_w.iterrows():\n",
    "    allt = pt*budget # 종목당 할당금액\n",
    "    price_open\n",
    "    # 종목당 실제 매수가능 금액 - 할당금액 내에서 최대 매수 가능 금액\n",
    "    print((pt*budget).sum())\n",
    "    \n",
    "    break\n",
    "    \n"
   ]
  },
  {
   "cell_type": "code",
   "execution_count": null,
   "metadata": {},
   "outputs": [],
   "source": []
  },
  {
   "cell_type": "code",
   "execution_count": 0,
   "metadata": {},
   "outputs": [],
   "source": [
    "# 포트폴리오 내 실제 종목 금액\n",
    "# 포트폴리오 평가 금액과 함께 계산되어야 함\n",
    "class pocket:\n",
    "    def __init__(self, init_deposit, ):\n",
    "        self.cash = init_deposit\n",
    "        self.asset = 0\n",
    "        self.value = \n",
    "    "
   ]
  },
  {
   "cell_type": "code",
   "execution_count": 24,
   "metadata": {},
   "outputs": [
    {
     "ename": "NameError",
     "evalue": "name 'PackInfo_DataGuide' is not defined",
     "output_type": "error",
     "traceback": [
      "\u001b[0;31m---------------------------------------------------------------------------\u001b[0m",
      "\u001b[0;31mNameError\u001b[0m                                 Traceback (most recent call last)",
      "\u001b[0;32m<ipython-input-24-444e86d92c40>\u001b[0m in \u001b[0;36m<module>\u001b[0;34m\u001b[0m\n\u001b[1;32m      1\u001b[0m \u001b[0;31m# 데이터팩 파싱\u001b[0m\u001b[0;34m\u001b[0m\u001b[0;34m\u001b[0m\u001b[0;34m\u001b[0m\u001b[0m\n\u001b[0;32m----> 2\u001b[0;31m \u001b[0;32mclass\u001b[0m \u001b[0mDataGuideData\u001b[0m\u001b[0;34m(\u001b[0m\u001b[0mPackInfo_DataGuide\u001b[0m\u001b[0;34m)\u001b[0m\u001b[0;34m:\u001b[0m\u001b[0;34m\u001b[0m\u001b[0;34m\u001b[0m\u001b[0m\n\u001b[0m\u001b[1;32m      3\u001b[0m     \u001b[0;31m# PackInfo = PackInfo_DataGuide() # 클래스 선언과 함께 생성\u001b[0m\u001b[0;34m\u001b[0m\u001b[0;34m\u001b[0m\u001b[0;34m\u001b[0m\u001b[0m\n\u001b[1;32m      4\u001b[0m     \u001b[0mmarket_open\u001b[0m \u001b[0;34m=\u001b[0m \u001b[0;32mNone\u001b[0m\u001b[0;34m\u001b[0m\u001b[0;34m\u001b[0m\u001b[0m\n\u001b[1;32m      5\u001b[0m \u001b[0;34m\u001b[0m\u001b[0m\n",
      "\u001b[0;31mNameError\u001b[0m: name 'PackInfo_DataGuide' is not defined"
     ]
    }
   ],
   "source": [
    "    \n",
    "# 데이터팩 파싱 \n",
    "class DataGuideData(PackInfo_DataGuide):\n",
    "    # PackInfo = PackInfo_DataGuide() # 클래스 선언과 함께 생성\n",
    "    market_open = None\n",
    "    \n",
    "    def __init__(self):\n",
    "        # Pack Data - PRP, MP, SDP, QP\n",
    "        # self.PackInfo = PackInfo_DataGuide() # Pack 구성 정보를 담을 Pack Information Set\n",
    "        self.Pack = PackInfo_DataGuide() # Pack 구성 정보를 바탕으로 개별 데이터가 저장될 Data Set\n",
    "        \n",
    "        self.PRD = None # Parsing 대상이 되는 전체 Raw Data - Price Related\n",
    "        self.MD = None # Parsing 대상이 되는 전체 Raw Data - Market\n",
    "        self.SDD = None # Parsing 대상이 되는 전체 Raw Data - Supply & Demand \n",
    "        self.QD = None # Parsing 대상이 되는 전체 Raw Data - Quality\n",
    "        self.monthly_return = None\n",
    "        self.monthly_return_ie = None\n",
    "        self._read() # Read data \n",
    "        self._unpack() # Unpack files\n",
    "        # self._monthlyreturn()\n",
    "        \n",
    "        # self._monthlyreturn() # Calculate Monthly Return\n",
    "        \n",
    "    def _read(self):\n",
    "        print('File loading... ', end='')\n",
    "        start = time.time()\n",
    "        self.PRD = dropComma(pd.read_pickle(self.Pack.PRP.directory.value))\n",
    "        self.MD = dropComma(pd.read_pickle(self.Pack.MP.directory.value))\n",
    "        self.SDD = dropComma(pd.read_pickle(self.Pack.SDP.directory.value))\n",
    "        # self.QD = pd.read_pickle(self.PackInfo.QP.directory.value)\n",
    "        print('complete!!', time.time()-start, 'sec')\n",
    "              \n",
    "    def _unpack(self):\n",
    "        print('File unpacking... ', end='')\n",
    "        start = time.time()\n",
    "        \n",
    "        # PRICE RELATED DATA UNPACK\n",
    "        for i, component in enumerate(self.Pack.PRP):\n",
    "            if component.name == 'directory': continue\n",
    "            component._value_ = self.PRD.xs(tuple(self.Pack.PRP)[i].value, level=1, axis=1)\n",
    "\n",
    "        # SUPPLY&DEMAND UNPACK\n",
    "        for i, component in enumerate(self.Pack.SDP):\n",
    "            if component.name == 'directory': continue\n",
    "            component._value_ = self.SDD.xs(tuple(self.Pack.SDP)[i].value, level=1, axis=1)\n",
    "        \n",
    "        # MARKET DATA UNPACK\n",
    "        for i, component in enumerate(self.Pack.MP):\n",
    "            if component.name == 'directory': continue\n",
    "            mkt = '코스피' if component.name[:5] == 'kospi' else '코스닥'\n",
    "            component._value_ = (self.MD[mkt])[tuple(self.Pack.MP)[i].value]\n",
    "        self.market_open = (self.Pack.MP.kospi.value.dropna()).index\n",
    "        \n",
    "        print('complete', time.time()-start, 'sec')\n",
    "        \n",
    "    def _monthlyreturn(self):\n",
    "        monthlyPrice_init = self.Pack.PRP.price.value.resample('M').first()\n",
    "        monthlyPrice_end = self.Pack.PRP.price.value.resample('M').last()\n",
    "        \n",
    "        self.monthly_return = (((monthlyPrice_init).astype('float')/(monthlyPrice_init.shift(1)).astype('float').shift(-1))-1)\n",
    "        # self.monthly_return_ie = (monthlyPrice_end/monthlyPrice_init)-1 # 월초 매수 월말 매도\n",
    "        \n",
    "    # Data integrity check    \n",
    "    def _updateData(self):\n",
    "        pass\n",
    "    \n",
    "\n",
    "_DT = DataGuideData()\n",
    "pack = _DT.Pack"
   ]
  },
  {
   "cell_type": "code",
   "execution_count": null,
   "metadata": {},
   "outputs": [],
   "source": []
  },
  {
   "cell_type": "code",
   "execution_count": 0,
   "metadata": {},
   "outputs": [],
   "source": [
    "(strategy_sample01).sum(axis=1)"
   ]
  },
  {
   "cell_type": "code",
   "execution_count": 0,
   "metadata": {},
   "outputs": [],
   "source": [
    "def _plate(strategy):\n",
    "    plate = pd.DataFrame(columns=strategy.columns, index=strategy.index) # 판 만들기\n",
    "    plate = (plate.apply(lambda col: col.replace(np.nan, col.name)))\n",
    "    return plate"
   ]
  },
  {
   "cell_type": "code",
   "execution_count": 0,
   "metadata": {},
   "outputs": [],
   "source": [
    "plate = _plate(strategy_sample01)"
   ]
  },
  {
   "cell_type": "markdown",
   "metadata": {},
   "source": [
    "<br>"
   ]
  },
  {
   "cell_type": "code",
   "execution_count": 0,
   "metadata": {},
   "outputs": [],
   "source": [
    "# Option1인 경우 포트폴리오 구성 \n",
    "# - 휴일인 경우 포트폴리오내에 종목 없음\n",
    "portfolio = {}\n",
    "for i, row in strategy_sample01.iterrows():\n",
    "    row.name = row.dropna()"
   ]
  },
  {
   "cell_type": "code",
   "execution_count": 0,
   "metadata": {},
   "outputs": [],
   "source": [
    "portfolio"
   ]
  },
  {
   "cell_type": "code",
   "execution_count": 0,
   "metadata": {},
   "outputs": [],
   "source": [
    "(strategy_sample01.index != plate.index).sum()\n",
    "(strategy_sample01.columns != plate.columns).sum()"
   ]
  },
  {
   "cell_type": "code",
   "execution_count": 0,
   "metadata": {},
   "outputs": [],
   "source": [
    "plate[strategy_sample01].iloc[0].name"
   ]
  },
  {
   "cell_type": "code",
   "execution_count": 0,
   "metadata": {},
   "outputs": [],
   "source": [
    "# TEST\n",
    "(strategy_sample01.sum(axis=1))"
   ]
  },
  {
   "cell_type": "code",
   "execution_count": 0,
   "metadata": {},
   "outputs": [],
   "source": [
    "# Daily Trading Algorithm\n",
    "# Option1 - Buy at open Sell at end\n",
    "# Option2 - Buy at open Sell at next open\n",
    "# Option3 - Buy at end Sell at next end"
   ]
  },
  {
   "cell_type": "code",
   "execution_count": 0,
   "metadata": {},
   "outputs": [],
   "source": [
    "# Option1\n",
    "portfolio_table = "
   ]
  },
  {
   "cell_type": "code",
   "execution_count": 0,
   "metadata": {},
   "outputs": [],
   "source": [
    "# TEST for Daily\n",
    "np.where((strategy_sample01.sum(axis=1))!=0, False, True)"
   ]
  },
  {
   "cell_type": "code",
   "execution_count": 0,
   "metadata": {},
   "outputs": [],
   "source": [
    "# 평균 유지 기간 - 선정된 종목의\n",
    "# 회전율\n",
    "# Rough / Exact / Advanced\n",
    "strategy_sample01"
   ]
  },
  {
   "cell_type": "markdown",
   "metadata": {},
   "source": [
    "<br>\n",
    "<br>\n",
    "\n",
    "### __Portolio Type II__\n",
    "\n",
    "---"
   ]
  },
  {
   "cell_type": "code",
   "execution_count": null,
   "metadata": {},
   "outputs": [],
   "source": []
  }
 ],
 "metadata": {
  "kernelspec": {
   "display_name": "Python 3",
   "language": "python",
   "name": "python3"
  },
  "language_info": {
   "codemirror_mode": {
    "name": "ipython",
    "version": 3
   },
   "file_extension": ".py",
   "mimetype": "text/x-python",
   "name": "python",
   "nbconvert_exporter": "python",
   "pygments_lexer": "ipython3",
   "version": "3.8.0"
  }
 },
 "nbformat": 4,
 "nbformat_minor": 4
}